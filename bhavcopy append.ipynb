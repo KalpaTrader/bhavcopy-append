{
 "cells": [
  {
   "cell_type": "code",
   "execution_count": 1,
   "id": "32648c10",
   "metadata": {},
   "outputs": [],
   "source": [
    "import pandas as pd\n",
    "import os, shutil, glob\n"
   ]
  },
  {
   "cell_type": "code",
   "execution_count": null,
   "id": "ad3b8609",
   "metadata": {},
   "outputs": [],
   "source": [
    "import os\n",
    "import glob\n",
    "import pandas as pd\n",
    "\n",
    "file_list = glob.glob('C:\\\\Users\\\\LENOVO\\\\python codes\\\\*.csv')\n",
    "\n",
    "final_df = pd.DataFrame()  # empty dataframe\n",
    "\n",
    "for csv_file in file_list:\n",
    "    df = pd.read_csv(csv_file)\n",
    "    csv_file_name = os.path.basename(csv_file)\n",
    "    print('Processing File: {}'.format(csv_file_name))\n",
    "    \n",
    "    df.columns = df.columns.str.replace(' ', '')\n",
    "    df['TIMESTAMP'] = pd.to_datetime(df['TIMESTAMP'])\n",
    "    df.set_index(['TIMESTAMP'], inplace=True)\n",
    "\n",
    "    if 'Unnamed:13' in df.columns:\n",
    "        df.drop(['Unnamed:13'], axis=1, inplace=True)\n",
    "\n",
    "    df_trim = df.apply(lambda x: x.str.strip() if x.dtype == 'object' else x)\n",
    "\n",
    "    new_df = df_trim[df_trim['SERIES'].isin(['EQ', 'BE', 'SM'])]\n",
    "    final_df = final_df.append(new_df)\n",
    "\n",
    "final_df.sort_index(inplace=True)  # to sort by dates\n",
    "\n",
    "final_df.to_csv('C:\\\\Users\\\\LENOVO\\\\python codes\\\\bhav_append.csv')"
   ]
  }
 ],
 "metadata": {
  "kernelspec": {
   "display_name": "Python 3 (ipykernel)",
   "language": "python",
   "name": "python3"
  },
  "language_info": {
   "codemirror_mode": {
    "name": "ipython",
    "version": 3
   },
   "file_extension": ".py",
   "mimetype": "text/x-python",
   "name": "python",
   "nbconvert_exporter": "python",
   "pygments_lexer": "ipython3",
   "version": "3.11.4"
  }
 },
 "nbformat": 4,
 "nbformat_minor": 5
}
